{
 "cells": [
  {
   "cell_type": "code",
   "execution_count": 1,
   "id": "bf8e43b5-6a16-4c3d-9064-e9e0f60b3960",
   "metadata": {},
   "outputs": [
    {
     "ename": "ModuleNotFoundError",
     "evalue": "No module named 'numpy'",
     "output_type": "error",
     "traceback": [
      "\u001b[0;31m---------------------------------------------------------------------------\u001b[0m",
      "\u001b[0;31mModuleNotFoundError\u001b[0m                       Traceback (most recent call last)",
      "Cell \u001b[0;32mIn[1], line 1\u001b[0m\n\u001b[0;32m----> 1\u001b[0m \u001b[38;5;28;01mimport\u001b[39;00m \u001b[38;5;21;01mnumpy\u001b[39;00m \u001b[38;5;28;01mas\u001b[39;00m \u001b[38;5;21;01mnp\u001b[39;00m\n\u001b[1;32m      2\u001b[0m \u001b[38;5;28;01mimport\u001b[39;00m \u001b[38;5;21;01mmatplotlib\u001b[39;00m\u001b[38;5;21;01m.\u001b[39;00m\u001b[38;5;21;01mpyplot\u001b[39;00m \u001b[38;5;28;01mas\u001b[39;00m \u001b[38;5;21;01mplt\u001b[39;00m\n\u001b[1;32m      3\u001b[0m \u001b[38;5;28;01mfrom\u001b[39;00m \u001b[38;5;21;01mscipy\u001b[39;00m\u001b[38;5;21;01m.\u001b[39;00m\u001b[38;5;21;01moptimize\u001b[39;00m \u001b[38;5;28;01mimport\u001b[39;00m root_scalar\n",
      "\u001b[0;31mModuleNotFoundError\u001b[0m: No module named 'numpy'"
     ]
    }
   ],
   "source": [
    "import numpy as np\n",
    "import matplotlib.pyplot as plt\n",
    "from scipy.optimize import root_scalar\n",
    "from matplotlib.patches import Ellipse\n",
    "\n",
    "# Constants given in the problem\n",
    "phi_active = 0.054\n",
    "phi_passive = 0.0975\n",
    "phi_min = 0.09555\n",
    "h = 148  # height in mm\n",
    "\n",
    "# Function to calculate I_p\n",
    "def calculate_I_p(r_c, h):\n",
    "    return 1 / np.sqrt(1 + (r_c/h)**2)\n",
    "\n",
    "# Function to interpolate phi between phi_active and phi_passive based on I_p\n",
    "def calculate_phi(I_p, phi_active, phi_passive):\n",
    "    return phi_active + (phi_passive - phi_active) * I_p\n",
    "\n",
    "# Function to find the root for phi_min\n",
    "def phi_difference(r_c, phi_min, phi_active, phi_passive, h):\n",
    "    # Use absolute value of r_c for the calculation due to symmetry\n",
    "    I_p = calculate_I_p(abs(r_c), h)\n",
    "    phi = calculate_phi(I_p, phi_active, phi_passive)\n",
    "    return phi - phi_min\n",
    "\n",
    "# Find the r_c value where phi equals phi_min using the root_scalar function\n",
    "# Since we're considering absolute values, we look for the root in the positive range\n",
    "sol = root_scalar(phi_difference, args=(phi_min, phi_active, phi_passive, h), bracket=[0, 50])\n",
    "\n",
    "# Generate the plot data\n",
    "r_c = np.linspace(-90, 90, 1000)  # Range from -100 mm to 100 mm\n",
    "I_p = calculate_I_p(r_c, h)\n",
    "phi_values = calculate_phi(I_p, phi_active, phi_passive)\n",
    "\n",
    "# Plot the graph\n",
    "plt.figure(figsize=(12, 6))\n",
    "plt.plot(r_c, phi_values, label=r'$\\phi(r_c)$')\n",
    "plt.axhline(y=phi_min, color='orange', linestyle='--', label=r'$\\phi_{min}$')\n",
    "plt.axvline(x=sol.root, color='purple', linestyle='--', label=r'$r_c$ at $\\phi_{min}$')\n",
    "plt.axvline(x=-sol.root, color='purple', linestyle='--')  # Symmetric point at -r_c\n",
    "petri_dish_area_min = -10\n",
    "petri_dish_area_max = 10\n",
    "plt.fill_betweenx([phi_min, phi_passive], petri_dish_area_min, petri_dish_area_max, color='yellow', alpha=0.3, label='Petri dish area')\n",
    "movable_area_start = 10  # Edge of the Petri dish area in mm\n",
    "movable_area_end = sol.root  # r_c at phi_min, calculated from your code\n",
    "\n",
    "# The arrow starts at the edge of the Petri dish and ends at r_c at phi_min\n",
    "plt.annotate(text='', xy=(movable_area_end, phi_min), xytext=(movable_area_start, phi_min),\n",
    "             arrowprops=dict(arrowstyle='<->', lw=1.5, color='red'))\n",
    "\n",
    "# Add text to the arrow\n",
    "plt.text((movable_area_start + movable_area_end) / 2, phi_min, ' Movable area = 35mm',\n",
    "         verticalalignment='bottom', horizontalalignment='center', color='red', fontsize=9)\n",
    "# Add an Ellipse to represent the Petri dish\n",
    "# Assuming the center is at (0, phi_passive) and the width of the Petri dish is 20mm (for the diameter)\n",
    "petri_dish = Ellipse(xy=(0, phi_passive - 0.0055), width=20, height=0.001, edgecolor='blue', facecolor='none', lw=1.5)\n",
    "petri_dish2 = Ellipse(xy=(0, phi_passive - 0.0057), width=20, height=0.001, edgecolor='blue', facecolor='none', lw=1.5)\n",
    "\n",
    "# Get the current Axes instance on which to add the Ellipse\n",
    "ax = plt.gca()  # Get current axes\n",
    "ax.add_patch(petri_dish)\n",
    "ax.add_patch(petri_dish2)\n",
    "\n",
    "plt.xlabel(r'Radial distance $r_c$ (mm)', fontsize=12)\n",
    "plt.ylabel(r'$\\phi$', fontsize=12)\n",
    "plt.title(r'$\\phi$ vs Radial distance', fontsize=14)\n",
    "plt.legend()\n",
    "plt.grid(True)\n",
    "plt.show()\n",
    "\n",
    "# Calculate and output the difference between the 10mm of the petri dish and the r at phi_min\n",
    "difference_from_edge_to_phi_min = abs(sol.root) - 10\n",
    "difference_from_edge_to_phi_min\n",
    "\n"
   ]
  },
  {
   "cell_type": "code",
   "execution_count": null,
   "id": "b5abdef0-f9bf-4769-911c-f61e5d0ed34f",
   "metadata": {},
   "outputs": [
    {
     "name": "stdout",
     "output_type": "stream",
     "text": [
      "The rate of change of distance with respect to illumination intensity (dl/dphi) at phi = 12000 lux is: -3.8036288715636534e-07 mm per lux\n"
     ]
    }
   ],
   "source": [
    "import numpy as np\n",
    "\n",
    "# Constants\n",
    "k = 1  # You would adjust this based on your specific conditions or leave it as 1 for a normalized case\n",
    "\n",
    "# Function to calculate dl/dphi\n",
    "def calculate_dl_dphi(phi, k):\n",
    "    # Ensure phi is not zero to avoid division by zero\n",
    "    if phi <= 0:\n",
    "        return np.inf  # Indicate that dl/dphi approaches infinity as phi approaches 0\n",
    "    dl_dphi = -0.5 * (k**(0.5)) * (phi**(-1.5))\n",
    "    return dl_dphi\n",
    "\n",
    "# Example calculation at phi = 12,000 lux (midway between active and passive states)\n",
    "phi_example = 12000\n",
    "dl_dphi_example = calculate_dl_dphi(phi_example, k)\n",
    "\n",
    "print(f\"The rate of change of distance with respect to illumination intensity (dl/dphi) at phi = {phi_example} lux is: {dl_dphi_example} mm per lux\")\n"
   ]
  },
  {
   "cell_type": "code",
   "execution_count": null,
   "id": "568a91c5-e2bb-4425-85b7-3ea1cc7df2f4",
   "metadata": {},
   "outputs": [],
   "source": []
  }
 ],
 "metadata": {
  "kernelspec": {
   "display_name": "Python 3 (ipykernel)",
   "language": "python",
   "name": "python3"
  },
  "language_info": {
   "codemirror_mode": {
    "name": "ipython",
    "version": 3
   },
   "file_extension": ".py",
   "mimetype": "text/x-python",
   "name": "python",
   "nbconvert_exporter": "python",
   "pygments_lexer": "ipython3",
   "version": "3.10.13"
  }
 },
 "nbformat": 4,
 "nbformat_minor": 5
}
